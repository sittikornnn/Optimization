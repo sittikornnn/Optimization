{
 "cells": [
  {
   "cell_type": "code",
   "execution_count": 6,
   "metadata": {},
   "outputs": [],
   "source": [
    "import random\n",
    "\n",
    "# Dictionaries\n",
    "data = {\n",
    "    'AB': {'next_paths': ['BC', 'BD'], 'distance': 100, 'ucs': 80},\n",
    "    'AC': {'next_paths': ['CD', 'CE'], 'distance': 80, 'ucs': 83},\n",
    "    'BC': {'next_paths': ['CD', 'CE'], 'distance': 155, 'ucs': 83},\n",
    "    'BD': {'next_paths': ['DE', 'DF'], 'distance': 125, 'ucs': 185},\n",
    "    'CD': {'next_paths': ['DE', 'DF'], 'distance': 95, 'ucs': 185},\n",
    "    'CE': {'next_paths': ['EF', 'EG'], 'distance': 125, 'ucs': 185},\n",
    "    'DE': {'next_paths': ['EF', 'EG'], 'distance': 130, 'ucs': 185},\n",
    "    'DF': {'next_paths': ['FG', 'FH'], 'distance': 120, 'ucs': 70},\n",
    "    'EF': {'next_paths': ['FG', 'FH'], 'distance': 195, 'ucs': 70},\n",
    "    'EG': {'next_paths': ['GI'], 'distance': 130, 'ucs': 50},\n",
    "    'FG': {'next_paths': ['GI'], 'distance': 175, 'ucs': 50},\n",
    "    'FH': {'next_paths': ['HG', 'HI'], 'distance': 120, 'ucs': 60},\n",
    "    'GI': {'next_paths': [], 'distance': 110, 'ucs': 60},\n",
    "    'HG': {'next_paths': ['GI'], 'distance': 150, 'ucs': 50},\n",
    "    'HI': {'next_paths': [], 'distance': 80, 'ucs': 70}\n",
    "}\n"
   ]
  },
  {
   "cell_type": "code",
   "execution_count": 7,
   "metadata": {},
   "outputs": [],
   "source": [
    "# Genetic Algorithm parameters\n",
    "population_size = 10\n",
    "mutation_rate = 0.1\n",
    "generations = 100\n",
    "\n",
    "def initialize_population(population_size):\n",
    "    population = []\n",
    "    for _ in range(population_size):\n",
    "        chromosome = ''.join(random.choice(['0', '1']) for _ in range(len(data)))  # Each bit represents a path\n",
    "        population.append(chromosome)\n",
    "    return population\n",
    "\n",
    "def fitness(chromosome):\n",
    "    # Evaluate the cost of the route represented by the chromosome\n",
    "    paths = [data[key]['next_paths'][i] for i, bit in enumerate(chromosome) if bit == '1']\n",
    "    cost = sum(data[path]['distance'] for path in paths)\n",
    "    return cost\n",
    "\n",
    "def crossover(parent1, parent2):\n",
    "    crossover_point = random.randint(1, len(parent1) - 1)\n",
    "    child1 = parent1[:crossover_point] + parent2[crossover_point:]\n",
    "    child2 = parent2[:crossover_point] + parent1[crossover_point:]\n",
    "    return child1, child2\n",
    "\n",
    "def mutate(chromosome):\n",
    "    mutated_chromosome = list(chromosome)\n",
    "    for i in range(len(mutated_chromosome)):\n",
    "        if random.random() < mutation_rate:\n",
    "            mutated_chromosome[i] = '1' if chromosome[i] == '0' else '0'\n",
    "    return ''.join(mutated_chromosome)"
   ]
  },
  {
   "cell_type": "code",
   "execution_count": 8,
   "metadata": {},
   "outputs": [],
   "source": [
    "def genetic_algorithm():\n",
    "    population = initialize_population(population_size)\n",
    "    for generation in range(generations):\n",
    "        fitness_scores = [(chromosome, fitness(chromosome)) for chromosome in population]\n",
    "        fitness_scores.sort(key=lambda x: x[1])  # Sort by fitness\n",
    "        best_chromosome, best_fitness = fitness_scores[0]\n",
    "\n",
    "        if best_chromosome in goal_nodes:\n",
    "            return best_chromosome, best_fitness\n",
    "\n",
    "        selected_parents = random.sample(fitness_scores, 2)\n",
    "        parent1, _ = selected_parents[0]\n",
    "        parent2, _ = selected_parents[1]\n",
    "\n",
    "        child1, child2 = crossover(parent1, parent2)\n",
    "        child1 = mutate(child1)\n",
    "        child2 = mutate(child2)\n",
    "\n",
    "        population.remove(fitness_scores[-1][0])\n",
    "        population.remove(fitness_scores[-2][0])\n",
    "        population.extend([child1, child2])\n",
    "\n",
    "    return best_chromosome, best_fitness"
   ]
  },
  {
   "cell_type": "code",
   "execution_count": 9,
   "metadata": {},
   "outputs": [
    {
     "ename": "NameError",
     "evalue": "name 'key' is not defined",
     "output_type": "error",
     "traceback": [
      "\u001b[1;31m---------------------------------------------------------------------------\u001b[0m",
      "\u001b[1;31mNameError\u001b[0m                                 Traceback (most recent call last)",
      "Cell \u001b[1;32mIn[9], line 9\u001b[0m\n\u001b[0;32m      7\u001b[0m \u001b[38;5;28;01mfor\u001b[39;00m start_node \u001b[38;5;129;01min\u001b[39;00m start_nodes:\n\u001b[0;32m      8\u001b[0m     \u001b[38;5;28;01mfor\u001b[39;00m goal_node \u001b[38;5;129;01min\u001b[39;00m goal_nodes:\n\u001b[1;32m----> 9\u001b[0m         best_route, best_cost \u001b[38;5;241m=\u001b[39m \u001b[43mgenetic_algorithm\u001b[49m\u001b[43m(\u001b[49m\u001b[43m)\u001b[49m\n\u001b[0;32m     10\u001b[0m         paths \u001b[38;5;241m=\u001b[39m [data[key][\u001b[38;5;124m'\u001b[39m\u001b[38;5;124mnext_paths\u001b[39m\u001b[38;5;124m'\u001b[39m][i] \u001b[38;5;28;01mfor\u001b[39;00m i, bit \u001b[38;5;129;01min\u001b[39;00m \u001b[38;5;28menumerate\u001b[39m(best_route) \u001b[38;5;28;01mif\u001b[39;00m bit \u001b[38;5;241m==\u001b[39m \u001b[38;5;124m'\u001b[39m\u001b[38;5;124m1\u001b[39m\u001b[38;5;124m'\u001b[39m]\n\u001b[0;32m     11\u001b[0m         \u001b[38;5;28mprint\u001b[39m(\u001b[38;5;124mf\u001b[39m\u001b[38;5;124m\"\u001b[39m\u001b[38;5;124mOptimal path from \u001b[39m\u001b[38;5;132;01m{\u001b[39;00mstart_node\u001b[38;5;132;01m}\u001b[39;00m\u001b[38;5;124m to \u001b[39m\u001b[38;5;132;01m{\u001b[39;00mgoal_node\u001b[38;5;132;01m}\u001b[39;00m\u001b[38;5;124m: \u001b[39m\u001b[38;5;132;01m{\u001b[39;00m\u001b[38;5;124m'\u001b[39m\u001b[38;5;124m -> \u001b[39m\u001b[38;5;124m'\u001b[39m\u001b[38;5;241m.\u001b[39mjoin(paths)\u001b[38;5;132;01m}\u001b[39;00m\u001b[38;5;124m\"\u001b[39m)\n",
      "Cell \u001b[1;32mIn[8], line 4\u001b[0m, in \u001b[0;36mgenetic_algorithm\u001b[1;34m()\u001b[0m\n\u001b[0;32m      2\u001b[0m population \u001b[38;5;241m=\u001b[39m initialize_population(population_size)\n\u001b[0;32m      3\u001b[0m \u001b[38;5;28;01mfor\u001b[39;00m generation \u001b[38;5;129;01min\u001b[39;00m \u001b[38;5;28mrange\u001b[39m(generations):\n\u001b[1;32m----> 4\u001b[0m     fitness_scores \u001b[38;5;241m=\u001b[39m \u001b[43m[\u001b[49m\u001b[43m(\u001b[49m\u001b[43mchromosome\u001b[49m\u001b[43m,\u001b[49m\u001b[43m \u001b[49m\u001b[43mfitness\u001b[49m\u001b[43m(\u001b[49m\u001b[43mchromosome\u001b[49m\u001b[43m)\u001b[49m\u001b[43m)\u001b[49m\u001b[43m \u001b[49m\u001b[38;5;28;43;01mfor\u001b[39;49;00m\u001b[43m \u001b[49m\u001b[43mchromosome\u001b[49m\u001b[43m \u001b[49m\u001b[38;5;129;43;01min\u001b[39;49;00m\u001b[43m \u001b[49m\u001b[43mpopulation\u001b[49m\u001b[43m]\u001b[49m\n\u001b[0;32m      5\u001b[0m     fitness_scores\u001b[38;5;241m.\u001b[39msort(key\u001b[38;5;241m=\u001b[39m\u001b[38;5;28;01mlambda\u001b[39;00m x: x[\u001b[38;5;241m1\u001b[39m])  \u001b[38;5;66;03m# Sort by fitness\u001b[39;00m\n\u001b[0;32m      6\u001b[0m     best_chromosome, best_fitness \u001b[38;5;241m=\u001b[39m fitness_scores[\u001b[38;5;241m0\u001b[39m]\n",
      "Cell \u001b[1;32mIn[8], line 4\u001b[0m, in \u001b[0;36m<listcomp>\u001b[1;34m(.0)\u001b[0m\n\u001b[0;32m      2\u001b[0m population \u001b[38;5;241m=\u001b[39m initialize_population(population_size)\n\u001b[0;32m      3\u001b[0m \u001b[38;5;28;01mfor\u001b[39;00m generation \u001b[38;5;129;01min\u001b[39;00m \u001b[38;5;28mrange\u001b[39m(generations):\n\u001b[1;32m----> 4\u001b[0m     fitness_scores \u001b[38;5;241m=\u001b[39m [(chromosome, \u001b[43mfitness\u001b[49m\u001b[43m(\u001b[49m\u001b[43mchromosome\u001b[49m\u001b[43m)\u001b[49m) \u001b[38;5;28;01mfor\u001b[39;00m chromosome \u001b[38;5;129;01min\u001b[39;00m population]\n\u001b[0;32m      5\u001b[0m     fitness_scores\u001b[38;5;241m.\u001b[39msort(key\u001b[38;5;241m=\u001b[39m\u001b[38;5;28;01mlambda\u001b[39;00m x: x[\u001b[38;5;241m1\u001b[39m])  \u001b[38;5;66;03m# Sort by fitness\u001b[39;00m\n\u001b[0;32m      6\u001b[0m     best_chromosome, best_fitness \u001b[38;5;241m=\u001b[39m fitness_scores[\u001b[38;5;241m0\u001b[39m]\n",
      "Cell \u001b[1;32mIn[7], line 15\u001b[0m, in \u001b[0;36mfitness\u001b[1;34m(chromosome)\u001b[0m\n\u001b[0;32m     13\u001b[0m \u001b[38;5;28;01mdef\u001b[39;00m \u001b[38;5;21mfitness\u001b[39m(chromosome):\n\u001b[0;32m     14\u001b[0m     \u001b[38;5;66;03m# Evaluate the cost of the route represented by the chromosome\u001b[39;00m\n\u001b[1;32m---> 15\u001b[0m     paths \u001b[38;5;241m=\u001b[39m \u001b[43m[\u001b[49m\u001b[43mdata\u001b[49m\u001b[43m[\u001b[49m\u001b[43mkey\u001b[49m\u001b[43m]\u001b[49m\u001b[43m[\u001b[49m\u001b[38;5;124;43m'\u001b[39;49m\u001b[38;5;124;43mnext_paths\u001b[39;49m\u001b[38;5;124;43m'\u001b[39;49m\u001b[43m]\u001b[49m\u001b[43m[\u001b[49m\u001b[43mi\u001b[49m\u001b[43m]\u001b[49m\u001b[43m \u001b[49m\u001b[38;5;28;43;01mfor\u001b[39;49;00m\u001b[43m \u001b[49m\u001b[43mi\u001b[49m\u001b[43m,\u001b[49m\u001b[43m \u001b[49m\u001b[43mbit\u001b[49m\u001b[43m \u001b[49m\u001b[38;5;129;43;01min\u001b[39;49;00m\u001b[43m \u001b[49m\u001b[38;5;28;43menumerate\u001b[39;49m\u001b[43m(\u001b[49m\u001b[43mchromosome\u001b[49m\u001b[43m)\u001b[49m\u001b[43m \u001b[49m\u001b[38;5;28;43;01mif\u001b[39;49;00m\u001b[43m \u001b[49m\u001b[43mbit\u001b[49m\u001b[43m \u001b[49m\u001b[38;5;241;43m==\u001b[39;49m\u001b[43m \u001b[49m\u001b[38;5;124;43m'\u001b[39;49m\u001b[38;5;124;43m1\u001b[39;49m\u001b[38;5;124;43m'\u001b[39;49m\u001b[43m]\u001b[49m\n\u001b[0;32m     16\u001b[0m     cost \u001b[38;5;241m=\u001b[39m \u001b[38;5;28msum\u001b[39m(data[path][\u001b[38;5;124m'\u001b[39m\u001b[38;5;124mdistance\u001b[39m\u001b[38;5;124m'\u001b[39m] \u001b[38;5;28;01mfor\u001b[39;00m path \u001b[38;5;129;01min\u001b[39;00m paths)\n\u001b[0;32m     17\u001b[0m     \u001b[38;5;28;01mreturn\u001b[39;00m cost\n",
      "Cell \u001b[1;32mIn[7], line 15\u001b[0m, in \u001b[0;36m<listcomp>\u001b[1;34m(.0)\u001b[0m\n\u001b[0;32m     13\u001b[0m \u001b[38;5;28;01mdef\u001b[39;00m \u001b[38;5;21mfitness\u001b[39m(chromosome):\n\u001b[0;32m     14\u001b[0m     \u001b[38;5;66;03m# Evaluate the cost of the route represented by the chromosome\u001b[39;00m\n\u001b[1;32m---> 15\u001b[0m     paths \u001b[38;5;241m=\u001b[39m [data[\u001b[43mkey\u001b[49m][\u001b[38;5;124m'\u001b[39m\u001b[38;5;124mnext_paths\u001b[39m\u001b[38;5;124m'\u001b[39m][i] \u001b[38;5;28;01mfor\u001b[39;00m i, bit \u001b[38;5;129;01min\u001b[39;00m \u001b[38;5;28menumerate\u001b[39m(chromosome) \u001b[38;5;28;01mif\u001b[39;00m bit \u001b[38;5;241m==\u001b[39m \u001b[38;5;124m'\u001b[39m\u001b[38;5;124m1\u001b[39m\u001b[38;5;124m'\u001b[39m]\n\u001b[0;32m     16\u001b[0m     cost \u001b[38;5;241m=\u001b[39m \u001b[38;5;28msum\u001b[39m(data[path][\u001b[38;5;124m'\u001b[39m\u001b[38;5;124mdistance\u001b[39m\u001b[38;5;124m'\u001b[39m] \u001b[38;5;28;01mfor\u001b[39;00m path \u001b[38;5;129;01min\u001b[39;00m paths)\n\u001b[0;32m     17\u001b[0m     \u001b[38;5;28;01mreturn\u001b[39;00m cost\n",
      "\u001b[1;31mNameError\u001b[0m: name 'key' is not defined"
     ]
    }
   ],
   "source": [
    "\n",
    "# Starting nodes\n",
    "start_nodes = ['AB', 'AC']\n",
    "# Goal nodes\n",
    "goal_nodes = ['GI', 'HI']\n",
    "\n",
    "for start_node in start_nodes:\n",
    "    for goal_node in goal_nodes:\n",
    "        best_route, best_cost = genetic_algorithm()\n",
    "        paths = [data[key]['next_paths'][i] for i, bit in enumerate(best_route) if bit == '1']\n",
    "        print(f\"Optimal path from {start_node} to {goal_node}: {' -> '.join(paths)}\")\n",
    "        print(f\"Total cost: {best_cost}\")"
   ]
  }
 ],
 "metadata": {
  "kernelspec": {
   "display_name": "Python 3",
   "language": "python",
   "name": "python3"
  },
  "language_info": {
   "codemirror_mode": {
    "name": "ipython",
    "version": 3
   },
   "file_extension": ".py",
   "mimetype": "text/x-python",
   "name": "python",
   "nbconvert_exporter": "python",
   "pygments_lexer": "ipython3",
   "version": "3.11.7"
  }
 },
 "nbformat": 4,
 "nbformat_minor": 2
}
