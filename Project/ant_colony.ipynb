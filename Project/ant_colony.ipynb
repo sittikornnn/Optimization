{
 "cells": [
  {
   "cell_type": "code",
   "execution_count": 107,
   "metadata": {},
   "outputs": [],
   "source": [
    "from collections import Counter\n",
    "import numpy as np\n",
    "import pandas as pd\n",
    "import ast\n",
    "\n",
    "df_init = pd.read_csv(\"data.csv\")\n",
    "\n",
    "# add Pheromone column in df, it will be updated as the algorithm runs\n",
    "df_init['Pheromone'] = 1\n",
    "\n",
    "next_path = [ast.literal_eval(a) for a in df_init['Next Possible Path']]\n",
    "df_init['Next Possible Path'] = next_path"
   ]
  },
  {
   "cell_type": "code",
   "execution_count": 108,
   "metadata": {},
   "outputs": [],
   "source": [
    "paths = []\n",
    "for i in df_init.index:\n",
    "    path_init = df_init['Possible Path'].iloc[i]\n",
    "    new_var = path_init.lower()    \n",
    "    globals()[new_var] = df_init.iloc[i].values.tolist()\n",
    "    paths.append(df_init.iloc[i].values.tolist())"
   ]
  },
  {
   "cell_type": "code",
   "execution_count": 109,
   "metadata": {},
   "outputs": [],
   "source": [
    "# Calculate sum of distances and UCS values for all paths\n",
    "sum_dist = sum(path[2] for path in paths)\n",
    "sum_ucs = sum(path[3] for path in paths)\n",
    "\n",
    "# Calculate length for multiple objectives (distance and UCS)\n",
    "def length(ant):\n",
    "    summ = 0\n",
    "    for i in ant:\n",
    "        for j in paths:\n",
    "            if i == j[0]:\n",
    "                sums = (j[2]/sum_dist + j[3]/sum_ucs)/2\n",
    "                summ += sums\n",
    "    return summ"
   ]
  },
  {
   "cell_type": "code",
   "execution_count": 110,
   "metadata": {},
   "outputs": [],
   "source": [
    "# probabiity calculation for each path\n",
    "def probabs(adja):\n",
    "    pher_path_quality = []\n",
    "    for i in adja:\n",
    "        for j in paths:\n",
    "            if j[0] == i:\n",
    "                # Calculate pheromone and path quality for \"distance\"\n",
    "                dis_pher_pq = j[4]*(1/(j[2]))\n",
    "                dis_pher_pq = dis_pher_pq/sum_dist\n",
    "\n",
    "                # Calculate pheromone and path quality for \"ucs\"\n",
    "                ucs_pher_pq= j[4]*(1/(j[3]))\n",
    "                ucs_pher_pq = ucs_pher_pq/sum_ucs\n",
    "\n",
    "                pher_pq = (dis_pher_pq + ucs_pher_pq)/2\n",
    "                pher_path_quality.append(pher_pq)\n",
    "\n",
    "    # Calculate probability for each path\n",
    "    summ = sum(pher_path_quality)\n",
    "    probs = [pher_pq/summ for pher_pq in pher_path_quality]\n",
    "    \n",
    "    return probs"
   ]
  },
  {
   "cell_type": "code",
   "execution_count": 111,
   "metadata": {},
   "outputs": [],
   "source": [
    "# randomly choosing path based on probability roulette\n",
    "def choose_paths(adja):\n",
    "    probab = probabs(adja)\n",
    "    thresholds = np.cumsum(probab)\n",
    "    r = np.random.random()\n",
    "\n",
    "    for i, threshold in enumerate(thresholds):\n",
    "        if r < threshold:\n",
    "            return adja[i]\n",
    "\n",
    "    return adja[-1]"
   ]
  },
  {
   "cell_type": "code",
   "execution_count": 112,
   "metadata": {},
   "outputs": [],
   "source": [
    "# initiate the ant to pass the random path\n",
    "def ant(init_path_1, init_path_2):\n",
    "    path = []\n",
    "\n",
    "    starter = choose_paths([init_path_1[0],init_path_2[0]])\n",
    "    path.append(starter)\n",
    "\n",
    "    for i in paths:\n",
    "        if path[-1] == i[0]:\n",
    "            adj = i[1]\n",
    "            if len(adj)==0:\n",
    "                break\n",
    "            else:\n",
    "                adj_random = choose_paths(adj)\n",
    "                path.append(adj_random)\n",
    "    return path"
   ]
  },
  {
   "cell_type": "code",
   "execution_count": 113,
   "metadata": {},
   "outputs": [],
   "source": [
    "# pheromone evaporation\n",
    "def evaporation(constant):\n",
    "    for i in paths:\n",
    "        i[4] = i[4] * (1 - constant)\n",
    "\n",
    "# pheromone update\n",
    "def update_pherom(ants):\n",
    "    for i in ants:\n",
    "        pherom = 1 / (length(i))\n",
    "        for j in i:\n",
    "            for k in paths:\n",
    "                if k[0] == j:\n",
    "                    k[4] = k[4] + pherom"
   ]
  },
  {
   "cell_type": "code",
   "execution_count": 114,
   "metadata": {},
   "outputs": [],
   "source": [
    "# running the algorithm\n",
    "def full_aco(iter_number, ant_number, init_path_1, init_path_2, evap_constant=0.3):\n",
    "\n",
    "\n",
    "    for i in range(iter_number):\n",
    "        evaporation(constant=evap_constant)\n",
    "        ants = []\n",
    "        for j in range(ant_number):\n",
    "            path = ant(init_path_1, init_path_2)\n",
    "            ants.append(path)\n",
    "        update_pherom(ants)\n",
    "    return paths, ants\n",
    "\n",
    "\n",
    "paths, ants = full_aco(iter_number = 100, ant_number = 500, init_path_1 = ac, init_path_2 = ab) "
   ]
  },
  {
   "cell_type": "code",
   "execution_count": 115,
   "metadata": {},
   "outputs": [
    {
     "name": "stdout",
     "output_type": "stream",
     "text": [
      "\n",
      "Choosen path after running full algorithm\n",
      "[(\"['AC', 'CE', 'EG', 'GI']\", 435), (\"['AC', 'CD', 'DF', 'FG', 'GI']\", 60), (\"['AC', 'CD', 'DF', 'FH', 'HI']\", 5)]\n"
     ]
    }
   ],
   "source": [
    "print('\\nChoosen path after running full algorithm')\n",
    "print(Counter([str(i) for i in ants]).most_common())"
   ]
  },
  {
   "cell_type": "code",
   "execution_count": 116,
   "metadata": {},
   "outputs": [
    {
     "name": "stdout",
     "output_type": "stream",
     "text": [
      "\n",
      " All Path after running full algorithm\n",
      "['AB', ['BC', 'BD'], 100, 80, 4.856098385294428]\n",
      "['AC', ['CD', 'CE'], 80, 83, 6551.735928955854]\n",
      "['BC', ['CD', 'CE'], 155, 83, 4.856098361211149]\n",
      "['BD', ['DE', 'DF'], 125, 185, 2.4083279156541963e-08]\n",
      "['CD', ['DE', 'DF'], 95, 185, 840.3700214546761]\n",
      "['CE', ['EF', 'EG'], 125, 185, 5716.222005862284]\n",
      "['DE', ['EF', 'EG'], 130, 185, 3.4440130810237883e-09]\n",
      "['DF', ['FG', 'FH'], 120, 70, 840.3700214753154]\n",
      "['EF', ['FG', 'FH'], 195, 70, 1.6605783187457943e-09]\n",
      "['EG', ['GI'], 130, 50, 5716.222005864069]\n",
      "['FG', ['GI'], 175, 50, 780.7686150601903]\n",
      "['FH', ['HG', 'HI'], 120, 60, 59.60140641678492]\n",
      "['GI', [], 110, 60, 6497.022794069354]\n",
      "['HG', ['GI'], 150, 50, 0.03217314498808268]\n",
      "['HI', [], 80, 70, 59.56923327179684]\n"
     ]
    }
   ],
   "source": [
    "print('\\n All Path after running full algorithm')\n",
    "for i in paths:\n",
    "    print(i)"
   ]
  }
 ],
 "metadata": {
  "kernelspec": {
   "display_name": "Python 3",
   "language": "python",
   "name": "python3"
  },
  "language_info": {
   "codemirror_mode": {
    "name": "ipython",
    "version": 3
   },
   "file_extension": ".py",
   "mimetype": "text/x-python",
   "name": "python",
   "nbconvert_exporter": "python",
   "pygments_lexer": "ipython3",
   "version": "3.11.7"
  }
 },
 "nbformat": 4,
 "nbformat_minor": 2
}
