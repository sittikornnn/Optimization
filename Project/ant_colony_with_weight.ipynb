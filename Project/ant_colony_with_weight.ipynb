{
 "cells": [
  {
   "cell_type": "code",
   "execution_count": 71,
   "metadata": {},
   "outputs": [],
   "source": [
    "from collections import Counter\n",
    "import numpy as np\n",
    "import pandas as pd\n",
    "\n",
    "data = {\n",
    "    'AB': {'next_paths': ['BC', 'BD'], 'distance': 100, 'ucs': 80},\n",
    "    'AC': {'next_paths': ['CD', 'CE'], 'distance': 80, 'ucs': 83},\n",
    "    'BC': {'next_paths': ['CD', 'CE'], 'distance': 155, 'ucs': 83},\n",
    "    'BD': {'next_paths': ['DE', 'DF'], 'distance': 125, 'ucs': 185},\n",
    "    'CD': {'next_paths': ['DE', 'DF'], 'distance': 95, 'ucs': 185},\n",
    "    'CE': {'next_paths': ['EF', 'EG'], 'distance': 125, 'ucs': 185},\n",
    "    'DE': {'next_paths': ['EF', 'EG'], 'distance': 130, 'ucs': 185},\n",
    "    'DF': {'next_paths': ['FG', 'FH'], 'distance': 120, 'ucs': 70},\n",
    "    'EF': {'next_paths': ['FG', 'FH'], 'distance': 195, 'ucs': 70},\n",
    "    'EG': {'next_paths': ['GI'], 'distance': 130, 'ucs': 50},\n",
    "    'FG': {'next_paths': ['GI'], 'distance': 175, 'ucs': 50},\n",
    "    'FH': {'next_paths': ['HG', 'HI'], 'distance': 120, 'ucs': 60},\n",
    "    'GI': {'next_paths': [], 'distance': 110, 'ucs': 60},\n",
    "    'HG': {'next_paths': ['GI'], 'distance': 150, 'ucs': 50},\n",
    "    'HI': {'next_paths': [], 'distance': 80, 'ucs': 70}\n",
    "}\n",
    "\n",
    "# Convert data dictionary into a DataFrame\n",
    "df_init = pd.DataFrame.from_dict(data, orient='index').reset_index()\n",
    "df_init.columns = ['Possible Path', 'Next Possible Path', 'Distance', 'UCS']\n",
    "\n",
    "# add Pheromone column in df, it will be updated as the algorithm runs\n",
    "df_init['Pheromone'] = 1"
   ]
  },
  {
   "cell_type": "code",
   "execution_count": 72,
   "metadata": {},
   "outputs": [],
   "source": [
    "paths = []\n",
    "for i in df_init.index:\n",
    "    path_init = df_init['Possible Path'].iloc[i]\n",
    "    new_var = path_init.lower()    \n",
    "    new_var = df_init.iloc[i].values.tolist()\n",
    "    paths.append(df_init.iloc[i].values.tolist())\n",
    "\n",
    "# Calculate sum of distances and UCS values for all paths\n",
    "sum_dist = sum(path[2] for path in paths)\n",
    "sum_ucs = sum(path[3] for path in paths)"
   ]
  },
  {
   "cell_type": "code",
   "execution_count": 73,
   "metadata": {},
   "outputs": [],
   "source": [
    "# Calculate sum of distances and UCS values for all paths\n",
    "sum_dist = sum(path[2] for path in paths)\n",
    "sum_ucs = sum(path[3] for path in paths)\n",
    "\n",
    "# Calculate length for multiple objectives (distance and UCS) with weights\n",
    "def length(ant, dist_weight = 0.2, ucs_weight = 0.8):\n",
    "    summ = 0\n",
    "    for i in ant:\n",
    "        for j in paths:\n",
    "            if i == j[0]:\n",
    "                sums = (dist_weight * j[2] / sum_dist) + (ucs_weight * j[3] / sum_ucs)\n",
    "                summ += sums\n",
    "    return summ"
   ]
  },
  {
   "cell_type": "code",
   "execution_count": 74,
   "metadata": {},
   "outputs": [],
   "source": [
    "\n",
    "# probabiity calculation for each path with weighted fitness\n",
    "def probabs(adja, dist_weight = 0.2, ucs_weight = 0.8):\n",
    "    pher_path_quality = []\n",
    "    for i in adja:\n",
    "        for j in paths:\n",
    "            if j[0] == i:\n",
    "                # Calculate pheromone and path quality for \"distance\"\n",
    "                dis_pher_pq = j[4] * (1 / j[2])\n",
    "                dis_pher_pq = dis_pher_pq / sum_dist\n",
    "\n",
    "                # Calculate pheromone and path quality for \"ucs\"\n",
    "                ucs_pher_pq = j[4] * (1 / j[3])\n",
    "                ucs_pher_pq = ucs_pher_pq / sum_ucs\n",
    "\n",
    "                pher_pq = (dist_weight * dis_pher_pq) + (ucs_weight * ucs_pher_pq)\n",
    "                pher_path_quality.append(pher_pq)\n",
    "\n",
    "    # Calculate probability for each path\n",
    "    summ = sum(pher_path_quality)\n",
    "    probs = [pher_pq / summ for pher_pq in pher_path_quality]\n",
    "\n",
    "    return probs"
   ]
  },
  {
   "cell_type": "code",
   "execution_count": 75,
   "metadata": {},
   "outputs": [],
   "source": [
    "# Running the algorithm with weighted fitness\n",
    "def full_aco(iter_number, ant_number, init_path_1, init_path_2, dist_weight = 0.2, ucs_weight = 0.8, evap_constant = 0.3):\n",
    "\n",
    "    for i in range(iter_number):\n",
    "        evaporation(constant=evap_constant)\n",
    "        ants = []\n",
    "        for j in range(ant_number):\n",
    "            path = ant(init_path_1, init_path_2)\n",
    "            ants.append(path)\n",
    "        update_pherom(ants)\n",
    "    return paths, ants"
   ]
  },
  {
   "cell_type": "code",
   "execution_count": 76,
   "metadata": {},
   "outputs": [],
   "source": [
    "# initiate the ant to pass the random path\n",
    "def ant(init_path_1, init_path_2):\n",
    "    path = []\n",
    "\n",
    "    starter = choose_paths([init_path_1[0], init_path_2[0]])\n",
    "    path.append(starter)\n",
    "\n",
    "    for i in paths:\n",
    "        if path[-1] == i[0]:\n",
    "            adj = i[1]\n",
    "            if len(adj)==0:\n",
    "                break\n",
    "            else:\n",
    "                adj_random = choose_paths(adj)\n",
    "                path.append(adj_random)\n",
    "    return path"
   ]
  },
  {
   "cell_type": "code",
   "execution_count": 77,
   "metadata": {},
   "outputs": [],
   "source": [
    "# pheromone evaporation\n",
    "def evaporation(constant):\n",
    "    for i in paths:\n",
    "        i[4] = i[4] * (1 - constant)\n",
    "\n",
    "# pheromone update\n",
    "def update_pherom(ants):\n",
    "    for i in ants:\n",
    "        pherom = 1 / (length(i))\n",
    "        for j in i:\n",
    "            for k in paths:\n",
    "                if k[0] == j:\n",
    "                    k[4] = k[4] + pherom"
   ]
  },
  {
   "cell_type": "code",
   "execution_count": 78,
   "metadata": {},
   "outputs": [],
   "source": [
    "# randomly choosing path based on probability roulette\n",
    "def choose_paths(adja):\n",
    "    probab = probabs(adja)\n",
    "    thresholds = np.cumsum(probab)\n",
    "    r = np.random.random()\n",
    "\n",
    "    for i, threshold in enumerate(thresholds):\n",
    "        if r < threshold:\n",
    "            return adja[i]\n",
    "\n",
    "    return adja[-1]\n",
    "\n",
    "# Initial paths for ants\n",
    "init_path_1 = ['AB']\n",
    "init_path_2 = ['AC']\n",
    "\n",
    "# Running the algorithm with weighted fitness\n",
    "paths, ants = full_aco(iter_number = 1000, ant_number = 500, init_path_1 = init_path_1, init_path_2 = init_path_2, dist_weight = 0.2, ucs_weight = 0.8)\n"
   ]
  },
  {
   "cell_type": "code",
   "execution_count": 79,
   "metadata": {},
   "outputs": [
    {
     "name": "stdout",
     "output_type": "stream",
     "text": [
      "\n",
      "Choosen path after running the full algorithm with weighted fitness\n",
      "[(\"['AC', 'CE', 'EG', 'GI']\", 500)]\n"
     ]
    }
   ],
   "source": [
    "print('\\nChoosen path after running the full algorithm with weighted fitness')\n",
    "print(Counter([str(i) for i in ants]).most_common())"
   ]
  },
  {
   "cell_type": "code",
   "execution_count": 80,
   "metadata": {},
   "outputs": [
    {
     "name": "stdout",
     "output_type": "stream",
     "text": [
      "\n",
      "All Paths after running the full algorithm with weighted fitness\n",
      "['AB', ['BC', 'BD'], 100, 80, 5.936454185405557e-143]\n",
      "['AC', ['CD', 'CE'], 80, 83, 6578.111422913933]\n",
      "['BC', ['CD', 'CE'], 155, 83, 5.936453353683898e-143]\n",
      "['BD', ['DE', 'DF'], 125, 185, 8.317229244179944e-150]\n",
      "['CD', ['DE', 'DF'], 95, 185, 6.15681386335847e-132]\n",
      "['CE', ['EF', 'EG'], 125, 185, 6578.111422913933]\n",
      "['DE', ['EF', 'EG'], 130, 185, 2.7096526908214486e-151]\n",
      "['DF', ['FG', 'FH'], 120, 70, 6.15681386335847e-132]\n",
      "['EF', ['FG', 'FH'], 195, 70, 6.281988994028764e-149]\n",
      "['EG', ['GI'], 130, 50, 6578.111422913933]\n",
      "['FG', ['GI'], 175, 50, 6.15681386335505e-132]\n",
      "['FH', ['HG', 'HI'], 120, 60, 3.4146696367776015e-144]\n",
      "['GI', [], 110, 60, 6578.111422913933]\n",
      "['HG', ['GI'], 150, 50, 3.407466502782822e-144]\n",
      "['HI', [], 80, 70, 7.203134007310989e-147]\n"
     ]
    }
   ],
   "source": [
    "print('\\nAll Paths after running the full algorithm with weighted fitness')\n",
    "for i in paths:\n",
    "    print(i)"
   ]
  }
 ],
 "metadata": {
  "kernelspec": {
   "display_name": "Python 3",
   "language": "python",
   "name": "python3"
  },
  "language_info": {
   "codemirror_mode": {
    "name": "ipython",
    "version": 3
   },
   "file_extension": ".py",
   "mimetype": "text/x-python",
   "name": "python",
   "nbconvert_exporter": "python",
   "pygments_lexer": "ipython3",
   "version": "3.11.7"
  }
 },
 "nbformat": 4,
 "nbformat_minor": 2
}
