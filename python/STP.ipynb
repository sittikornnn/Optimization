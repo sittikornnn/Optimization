{
 "cells": [
  {
   "cell_type": "code",
   "execution_count": 11,
   "id": "790f7a48",
   "metadata": {},
   "outputs": [],
   "source": [
    "# Python3 program to implement traveling salesman \n",
    "# problem using naive approach. \n",
    "from sys import maxsize \n",
    "from itertools import permutations"
   ]
  },
  {
   "cell_type": "code",
   "execution_count": 12,
   "id": "de3a861c",
   "metadata": {},
   "outputs": [],
   "source": [
    "V = 4\n",
    "\n",
    "# implementation of traveling Salesman Problem \n",
    "def travellingSalesmanProblem(graph, s): \n",
    "\n",
    " # store all vertex apart from source vertex \n",
    " vertex = [] \n",
    " for i in range(V): \n",
    "  if i != s: \n",
    "   vertex.append(i) \n",
    "\n",
    " # store minimum weight Hamiltonian Cycle \n",
    " min_path = maxsize \n",
    " next_permutation=permutations(vertex)\n",
    " for i in next_permutation:\n",
    "\n",
    "  # store current Path weight(cost) \n",
    "  current_pathweight = 0\n",
    "\n",
    "  # compute current path weight \n",
    "  k = s \n",
    "  for j in i: \n",
    "   current_pathweight += graph[k][j] \n",
    "   k = j \n",
    "  current_pathweight += graph[k][s] \n",
    "\n",
    "  # update minimum \n",
    "  min_path = min(min_path, current_pathweight) \n",
    "  \n",
    " return min_path "
   ]
  },
  {
   "cell_type": "code",
   "execution_count": 13,
   "id": "fad4e6c1",
   "metadata": {},
   "outputs": [
    {
     "name": "stdout",
     "output_type": "stream",
     "text": [
      "80\n"
     ]
    }
   ],
   "source": [
    "# Driver Code \n",
    "if __name__ == \"__main__\": \n",
    "\n",
    " # matrix representation of graph \n",
    " graph = [[0, 10, 15, 20], [10, 0, 35, 25], \n",
    "   [15, 35, 0, 30], [20, 25, 30, 0]] \n",
    " s = 0\n",
    " print(travellingSalesmanProblem(graph, s))"
   ]
  },
  {
   "cell_type": "code",
   "execution_count": 15,
   "id": "ff43ad1c",
   "metadata": {},
   "outputs": [
    {
     "name": "stdout",
     "output_type": "stream",
     "text": [
      "Collecting mlrose_hiive\n",
      "  Downloading mlrose_hiive-2.2.4.tar.gz (49 kB)\n",
      "     ---------------------------------------- 0.0/49.7 kB ? eta -:--:--\n",
      "     ---------------------------------------- 49.7/49.7 kB 1.2 MB/s eta 0:00:00\n",
      "  Preparing metadata (setup.py): started\n",
      "  Preparing metadata (setup.py): finished with status 'done'\n",
      "Requirement already satisfied: numpy in c:\\users\\hp\\anaconda3\\lib\\site-packages (from mlrose_hiive) (1.24.3)\n",
      "Requirement already satisfied: scipy in c:\\users\\hp\\anaconda3\\lib\\site-packages (from mlrose_hiive) (1.11.1)\n",
      "Requirement already satisfied: scikit-learn in c:\\users\\hp\\anaconda3\\lib\\site-packages (from mlrose_hiive) (1.3.0)\n",
      "Requirement already satisfied: pandas in c:\\users\\hp\\anaconda3\\lib\\site-packages (from mlrose_hiive) (2.2.1)\n",
      "Requirement already satisfied: networkx in c:\\users\\hp\\anaconda3\\lib\\site-packages (from mlrose_hiive) (3.1)\n",
      "Requirement already satisfied: joblib in c:\\users\\hp\\anaconda3\\lib\\site-packages (from mlrose_hiive) (1.2.0)\n",
      "Requirement already satisfied: python-dateutil>=2.8.2 in c:\\users\\hp\\anaconda3\\lib\\site-packages (from pandas->mlrose_hiive) (2.8.2)\n",
      "Requirement already satisfied: pytz>=2020.1 in c:\\users\\hp\\anaconda3\\lib\\site-packages (from pandas->mlrose_hiive) (2022.7)\n",
      "Requirement already satisfied: tzdata>=2022.7 in c:\\users\\hp\\anaconda3\\lib\\site-packages (from pandas->mlrose_hiive) (2024.1)\n",
      "Requirement already satisfied: threadpoolctl>=2.0.0 in c:\\users\\hp\\anaconda3\\lib\\site-packages (from scikit-learn->mlrose_hiive) (2.2.0)\n",
      "Requirement already satisfied: six>=1.5 in c:\\users\\hp\\anaconda3\\lib\\site-packages (from python-dateutil>=2.8.2->pandas->mlrose_hiive) (1.16.0)\n",
      "Building wheels for collected packages: mlrose_hiive\n",
      "  Building wheel for mlrose_hiive (setup.py): started\n",
      "  Building wheel for mlrose_hiive (setup.py): finished with status 'done'\n",
      "  Created wheel for mlrose_hiive: filename=mlrose_hiive-2.2.4-py3-none-any.whl size=98358 sha256=cb14bf1fd533b5c455fe5efea0638083063ad8bde0c5d0018b63c5dd9a4df73f\n",
      "  Stored in directory: c:\\users\\hp\\appdata\\local\\pip\\cache\\wheels\\7b\\fd\\bf\\f234df7edc5b514c706ec76a58be2770921ae7ce75a384f74c\n",
      "Successfully built mlrose_hiive\n",
      "Installing collected packages: mlrose_hiive\n",
      "Successfully installed mlrose_hiive-2.2.4\n"
     ]
    }
   ],
   "source": [
    "!pip install mlrose_hiive"
   ]
  },
  {
   "cell_type": "code",
   "execution_count": 18,
   "id": "eab37b98",
   "metadata": {},
   "outputs": [],
   "source": [
    "import mlrose_hiive\n",
    "import numpy as np"
   ]
  },
  {
   "cell_type": "code",
   "execution_count": 20,
   "id": "885c9641",
   "metadata": {},
   "outputs": [],
   "source": [
    "# Create list of city coordinates\n",
    "coords_list = [(1, 1), (4, 2), (5, 2), (6, 4), (4, 4), (3, 6), (1, 5), (2, 3)]\n",
    "\n",
    "# Initialize fitness function object using coords_list\n",
    "fitness_coords = mlrose_hiive.TravellingSales(coords = coords_list)"
   ]
  },
  {
   "cell_type": "code",
   "execution_count": 21,
   "id": "4c0fbe6e",
   "metadata": {},
   "outputs": [],
   "source": [
    "# Create list of distances between pairs of cities\n",
    "dist_list = [(0, 1, 3.1623), (0, 2, 4.1231), (0, 3, 5.8310), (0, 4, 4.2426), \\\n",
    "             (0, 5, 5.3852), (0, 6, 4.0000), (0, 7, 2.2361), (1, 2, 1.0000), \\\n",
    "             (1, 3, 2.8284), (1, 4, 2.0000), (1, 5, 4.1231), (1, 6, 4.2426), \\\n",
    "             (1, 7, 2.2361), (2, 3, 2.2361), (2, 4, 2.2361), (2, 5, 4.4721), \\\n",
    "             (2, 6, 5.0000), (2, 7, 3.1623), (3, 4, 2.0000), (3, 5, 3.6056), \\\n",
    "             (3, 6, 5.0990), (3, 7, 4.1231), (4, 5, 2.2361), (4, 6, 3.1623), \\\n",
    "             (4, 7, 2.2361), (5, 6, 2.2361), (5, 7, 3.1623), (6, 7, 2.2361)]\n",
    "\n",
    "# Initialize fitness function object using dist_list\n",
    "fitness_dists = mlrose_hiive.TravellingSales(distances = dist_list)"
   ]
  },
  {
   "cell_type": "code",
   "execution_count": 22,
   "id": "aa72cf9f",
   "metadata": {},
   "outputs": [],
   "source": [
    "# Define optimization problem object\n",
    "problem_fit = mlrose_hiive.TSPOpt(length = 8, fitness_fn = fitness_coords, maximize=False)"
   ]
  },
  {
   "cell_type": "code",
   "execution_count": 23,
   "id": "f3cd3f71",
   "metadata": {},
   "outputs": [],
   "source": [
    "# Create list of city coordinates\n",
    "coords_list = [(1, 1), (4, 2), (5, 2), (6, 4), (4, 4), (3, 6), (1, 5), (2, 3)]\n",
    "\n",
    "# Define optimization problem object\n",
    "problem_no_fit = mlrose_hiive.TSPOpt(length = 8, coords = coords_list, maximize=False)"
   ]
  },
  {
   "cell_type": "code",
   "execution_count": 47,
   "id": "90e3f084",
   "metadata": {},
   "outputs": [
    {
     "name": "stdout",
     "output_type": "stream",
     "text": [
      "<mlrose_hiive.opt_probs.tsp_opt.TSPOpt object at 0x0000022CA0B519D0>\n"
     ]
    }
   ],
   "source": [
    "# Get the string representation of the object\n",
    "obj_text = repr(problem_no_fit)\n",
    "\n",
    "# Print the string representation\n",
    "print(obj_text)"
   ]
  },
  {
   "cell_type": "code",
   "execution_count": 60,
   "id": "9b6aae6e",
   "metadata": {},
   "outputs": [],
   "source": [
    "# Solve problem using the genetic algorithm\n",
    "#best_state, best_fitness = mlrose_hiive.genetic_alg(problem_fit, random_state = 2)\n",
    "best_state = mlrose_hiive.genetic_alg(problem_fit, random_state = 2)\n",
    "best_fitness = mlrose_hiive.genetic_alg(problem_fit, random_state = 2,mutation_prob=0.9)"
   ]
  },
  {
   "cell_type": "code",
   "execution_count": 61,
   "id": "9d05e01d",
   "metadata": {},
   "outputs": [
    {
     "name": "stdout",
     "output_type": "stream",
     "text": [
      "(array([7, 6, 5, 4, 3, 2, 1, 0]), 17.34261754766733, None)\n"
     ]
    }
   ],
   "source": [
    "print(best_state)"
   ]
  },
  {
   "cell_type": "code",
   "execution_count": 62,
   "id": "5aff61a6",
   "metadata": {},
   "outputs": [
    {
     "name": "stdout",
     "output_type": "stream",
     "text": [
      "(array([6, 7, 0, 1, 2, 3, 4, 5]), 17.34261754766733, None)\n"
     ]
    }
   ],
   "source": [
    "print(best_fitness)"
   ]
  },
  {
   "cell_type": "code",
   "execution_count": null,
   "id": "61687eab",
   "metadata": {},
   "outputs": [],
   "source": []
  }
 ],
 "metadata": {
  "kernelspec": {
   "display_name": "Python 3 (ipykernel)",
   "language": "python",
   "name": "python3"
  },
  "language_info": {
   "codemirror_mode": {
    "name": "ipython",
    "version": 3
   },
   "file_extension": ".py",
   "mimetype": "text/x-python",
   "name": "python",
   "nbconvert_exporter": "python",
   "pygments_lexer": "ipython3",
   "version": "3.9.17"
  }
 },
 "nbformat": 4,
 "nbformat_minor": 5
}
