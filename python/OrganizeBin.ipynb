{
 "cells": [
  {
   "cell_type": "code",
   "execution_count": 1,
   "id": "bce232bb",
   "metadata": {},
   "outputs": [],
   "source": [
    "def nextfit(weigth,c):\n",
    "    res = 0\n",
    "    rem = c\n",
    "    for _ in range(len(weight)):\n",
    "        if rem >= weight[_]:\n",
    "            rem = rem - weight[_]\n",
    "        else:\n",
    "            res += 1\n",
    "            rem = c - weight[_]\n",
    "    return res"
   ]
  },
  {
   "cell_type": "code",
   "execution_count": 2,
   "id": "ba27fda7",
   "metadata": {},
   "outputs": [],
   "source": [
    "weight = [2,5,4,7,1,3,8]\n",
    "c = 10"
   ]
  },
  {
   "cell_type": "code",
   "execution_count": 3,
   "id": "5a67e87d",
   "metadata": {},
   "outputs": [
    {
     "name": "stdout",
     "output_type": "stream",
     "text": [
      "Number of bins required in Next Fit : 4\n"
     ]
    }
   ],
   "source": [
    "print(\"Number of bins required in Next Fit :\",nextfit(weight,c))"
   ]
  },
  {
   "cell_type": "code",
   "execution_count": 6,
   "id": "fbd4b31c",
   "metadata": {},
   "outputs": [],
   "source": [
    "def firstFit(weight,n,c):\n",
    "    res = 0\n",
    "    bin_rem = [0]*n\n",
    "    \n",
    "    for i in range(n):\n",
    "        j = 0\n",
    "        while(j<res):\n",
    "            if(bin_rem[j] >= weight[i]):\n",
    "                bin_rem[j] = bin_rem[j] - weight[i]\n",
    "                break\n",
    "            j+=1\n",
    "        \n",
    "        if(j==res):\n",
    "            bin_rem[res] = c - weight[i]\n",
    "            res = res+1\n",
    "    return res"
   ]
  },
  {
   "cell_type": "code",
   "execution_count": 7,
   "id": "7fb63ec3",
   "metadata": {},
   "outputs": [
    {
     "name": "stdout",
     "output_type": "stream",
     "text": [
      "number of bins required in First Fit : 4\n"
     ]
    }
   ],
   "source": [
    "n = len(weight)\n",
    "print(\"number of bins required in First Fit :\",firstFit(weight,n,c))"
   ]
  },
  {
   "cell_type": "code",
   "execution_count": 8,
   "id": "c5b3fd1e",
   "metadata": {},
   "outputs": [],
   "source": [
    "def BestFit(weight,n,c):\n",
    "    res = 0\n",
    "    bin_rem = [0]*n\n",
    "    \n",
    "    for i in range(n):\n",
    "        j = 0\n",
    "        min = c+1\n",
    "        bi = 0\n",
    "        \n",
    "        for j in range(res):\n",
    "            if(bin_rem[j] >= weight[i] and bin_rem[j] - weight[i] < min):\n",
    "                bi = j\n",
    "                min = bin_rem[j] - weight[i]\n",
    "        if(min == c+1):\n",
    "            bin_rem[res] = c-weight[i]\n",
    "            res+=1\n",
    "        else:\n",
    "            bin_rem[bi] -= weight[i]\n",
    "    return res"
   ]
  },
  {
   "cell_type": "code",
   "execution_count": 12,
   "id": "520175f6",
   "metadata": {},
   "outputs": [
    {
     "name": "stdout",
     "output_type": "stream",
     "text": [
      "Number of bins required in Best Fit : 4\n"
     ]
    }
   ],
   "source": [
    "print(\"Number of bins required in Best Fit :\",BestFit(weight,n,c))"
   ]
  },
  {
   "cell_type": "code",
   "execution_count": 10,
   "id": "6a4bd0e7",
   "metadata": {},
   "outputs": [],
   "source": [
    "def worstFit(weight,n,c):\n",
    "    res = 0\n",
    "    bin_rem = [0 for i in range(n)]\n",
    "    \n",
    "    for i in range(n):\n",
    "        mx,wi = -1,0\n",
    "        for j in range(res):\n",
    "            if(bin_rem[j] >= weight[i] and bin_rem[j] - weight[i] > mx):\n",
    "                wi = j\n",
    "                mx = bin_rem[j] - weight[i]\n",
    "        if(mx == -1):\n",
    "            bin_rem[res] = c-weight[i]\n",
    "            res += 1\n",
    "        else:\n",
    "            bin_rem[wi] -= weight[i]\n",
    "    return res"
   ]
  },
  {
   "cell_type": "code",
   "execution_count": 11,
   "id": "f1a2f293",
   "metadata": {},
   "outputs": [
    {
     "name": "stdout",
     "output_type": "stream",
     "text": [
      "Number of bins required in Worst Fit : 4\n"
     ]
    }
   ],
   "source": [
    "print(f\"Number of bins required in Worst Fit : {worstFit(weight,n,c)}\")"
   ]
  },
  {
   "cell_type": "code",
   "execution_count": 15,
   "id": "c10b8caa",
   "metadata": {},
   "outputs": [],
   "source": [
    "def firstFitDecreasing(weight,n,c):\n",
    "    weight.sort(reverse = True)\n",
    " \n",
    "    return firstFit(weight, n, c)"
   ]
  },
  {
   "cell_type": "code",
   "execution_count": 17,
   "id": "80872109",
   "metadata": {},
   "outputs": [
    {
     "name": "stdout",
     "output_type": "stream",
     "text": [
      "Number of bins required in First Fit Decreasing :  3\n"
     ]
    }
   ],
   "source": [
    "print(\"Number of bins required in First Fit Decreasing : \",str(firstFitDecreasing(weight, n, c)))"
   ]
  },
  {
   "cell_type": "code",
   "execution_count": null,
   "id": "8db9d6ea",
   "metadata": {},
   "outputs": [],
   "source": []
  }
 ],
 "metadata": {
  "kernelspec": {
   "display_name": "Python 3 (ipykernel)",
   "language": "python",
   "name": "python3"
  },
  "language_info": {
   "codemirror_mode": {
    "name": "ipython",
    "version": 3
   },
   "file_extension": ".py",
   "mimetype": "text/x-python",
   "name": "python",
   "nbconvert_exporter": "python",
   "pygments_lexer": "ipython3",
   "version": "3.9.17"
  }
 },
 "nbformat": 4,
 "nbformat_minor": 5
}
